{
 "cells": [
  {
   "cell_type": "code",
   "execution_count": 1,
   "id": "a9a51123",
   "metadata": {},
   "outputs": [],
   "source": [
    "import torch"
   ]
  },
  {
   "cell_type": "code",
   "execution_count": 2,
   "id": "5947a46e",
   "metadata": {},
   "outputs": [],
   "source": [
    "from model import VariationalAutoEncoder"
   ]
  },
  {
   "cell_type": "code",
   "execution_count": 3,
   "id": "f4c76bfd",
   "metadata": {},
   "outputs": [],
   "source": [
    "model = VariationalAutoEncoder(latent_dim=1024, kl_div_beta=0.90, device='cuda')"
   ]
  },
  {
   "cell_type": "code",
   "execution_count": 4,
   "id": "777fdbbf",
   "metadata": {},
   "outputs": [],
   "source": [
    "model = torch.load('vae_weights.pt', weights_only=False)"
   ]
  },
  {
   "cell_type": "code",
   "execution_count": 5,
   "id": "947e6e50",
   "metadata": {},
   "outputs": [],
   "source": [
    "from train import get_dataloader"
   ]
  },
  {
   "cell_type": "code",
   "execution_count": 6,
   "id": "b8600085",
   "metadata": {},
   "outputs": [],
   "source": [
    "test, train = get_dataloader(1)"
   ]
  },
  {
   "cell_type": "code",
   "execution_count": 17,
   "id": "c69ee01d",
   "metadata": {},
   "outputs": [
    {
     "data": {
      "text/plain": [
       "<matplotlib.image.AxesImage at 0x1d56656a8e0>"
      ]
     },
     "execution_count": 17,
     "metadata": {},
     "output_type": "execute_result"
    },
    {
     "data": {
      "image/png": "[encoded data removed]",
      "text/plain": [
       "<Figure size 640x480 with 1 Axes>"
      ]
     },
     "metadata": {},
     "output_type": "display_data"
    }
   ],
   "source": [
    "import matplotlib.pyplot as plt\n",
    "img = next(iter(train))\n",
    "\n",
    "plt.imshow(img[0].squeeze().squeeze())"
   ]
  },
  {
   "cell_type": "code",
   "execution_count": 18,
   "id": "e89e544c",
   "metadata": {},
   "outputs": [
    {
     "data": {
      "text/plain": [
       "VariationalAutoEncoder(\n",
       "  (encoder): Encoder(\n",
       "    (encoder_block): Sequential(\n",
       "      (0): Conv2d(1, 64, kernel_size=(3, 3), stride=(2, 2))\n",
       "      (1): BatchNorm2d(64, eps=1e-05, momentum=0.1, affine=True, track_running_stats=True)\n",
       "      (2): LeakyReLU(negative_slope=0.01)\n",
       "      (3): Conv2d(64, 32, kernel_size=(3, 3), stride=(2, 2))\n",
       "      (4): BatchNorm2d(32, eps=1e-05, momentum=0.1, affine=True, track_running_stats=True)\n",
       "      (5): LeakyReLU(negative_slope=0.01)\n",
       "      (6): Flatten(start_dim=1, end_dim=-1)\n",
       "    )\n",
       "    (latent_mean): Linear(in_features=1152, out_features=1024, bias=True)\n",
       "    (latent_log_var): Linear(in_features=1152, out_features=1024, bias=True)\n",
       "  )\n",
       "  (decoder): Decoder(\n",
       "    (decoder_block): Sequential(\n",
       "      (0): ConvTranspose2d(32, 64, kernel_size=(3, 3), stride=(2, 2))\n",
       "      (1): BatchNorm2d(64, eps=1e-05, momentum=0.1, affine=True, track_running_stats=True)\n",
       "      (2): LeakyReLU(negative_slope=0.01)\n",
       "      (3): ConvTranspose2d(64, 1, kernel_size=(3, 3), stride=(2, 2), output_padding=(1, 1))\n",
       "      (4): Sigmoid()\n",
       "    )\n",
       "    (latent_proj): Linear(in_features=1024, out_features=1152, bias=True)\n",
       "    (proj): Sequential(\n",
       "      (0): Linear(in_features=1024, out_features=1024, bias=True)\n",
       "      (1): Linear(in_features=1024, out_features=1024, bias=True)\n",
       "    )\n",
       "  )\n",
       ")"
      ]
     },
     "execution_count": 18,
     "metadata": {},
     "output_type": "execute_result"
    }
   ],
   "source": [
    "model.to('cuda')"
   ]
  },
  {
   "cell_type": "code",
   "execution_count": 19,
   "id": "f244dc1a",
   "metadata": {},
   "outputs": [],
   "source": [
    "recon, _ = model(img[0].to('cuda'))"
   ]
  },
  {
   "cell_type": "code",
   "execution_count": 20,
   "id": "31b1255e",
   "metadata": {},
   "outputs": [
    {
     "data": {
      "text/plain": [
       "tensor([[[[8.8102e-06, 1.1566e-07, 2.2863e-08, 7.0350e-09, 8.0923e-09,\n",
       "           2.5269e-07, 9.5239e-07, 3.8818e-05, 6.7533e-06, 1.9040e-05,\n",
       "           1.7790e-05, 1.6787e-04, 2.4310e-05, 1.3395e-05, 5.1846e-06,\n",
       "           5.5765e-05, 1.1174e-05, 1.6314e-05, 5.9036e-06, 5.3599e-05,\n",
       "           4.4222e-06, 2.0768e-06, 2.6077e-07, 1.1307e-06, 2.2118e-06,\n",
       "           1.1515e-05, 7.2177e-05, 3.9907e-02],\n",
       "          [1.4765e-07, 9.4180e-11, 1.8501e-10, 3.3708e-11, 5.1616e-11,\n",
       "           9.1143e-10, 4.3852e-08, 6.3873e-06, 1.2766e-06, 2.5198e-06,\n",
       "           4.3195e-06, 5.7588e-05, 5.9476e-06, 1.1350e-06, 5.6058e-07,\n",
       "           7.1242e-06, 1.4334e-06, 9.0708e-07, 7.0836e-07, 7.4223e-06,\n",
       "           1.4812e-06, 5.2673e-07, 1.4474e-07, 3.1872e-07, 4.6921e-07,\n",
       "           7.1632e-07, 8.2478e-06, 3.9907e-02],\n",
       "          [3.8694e-09, 7.6267e-12, 1.3306e-11, 1.2240e-11, 4.2872e-11,\n",
       "           1.0483e-08, 4.6663e-07, 1.0117e-05, 1.9377e-06, 7.3095e-06,\n",
       "           2.8556e-05, 1.2676e-04, 4.8185e-06, 6.2902e-07, 8.1379e-07,\n",
       "           1.0032e-05, 8.1854e-07, 5.5977e-07, 1.1117e-06, 7.5066e-06,\n",
       "           8.3204e-07, 2.4344e-06, 7.5122e-07, 3.2528e-06, 1.2865e-06,\n",
       "           1.7362e-06, 8.3816e-06, 3.9907e-02],\n",
       "          [7.4167e-10, 1.5887e-12, 1.5211e-11, 9.8657e-12, 4.3602e-10,\n",
       "           9.2208e-08, 3.2582e-06, 1.9977e-05, 2.5616e-05, 4.8167e-05,\n",
       "           1.1164e-04, 1.5976e-04, 2.9922e-05, 6.4862e-06, 3.2089e-06,\n",
       "           1.0838e-05, 3.5496e-06, 2.5035e-06, 3.6243e-06, 2.1798e-05,\n",
       "           9.8115e-06, 1.0327e-05, 4.5389e-06, 1.0524e-05, 5.4966e-06,\n",
       "           1.9453e-06, 7.8293e-06, 3.9907e-02],\n",
       "          [2.8115e-09, 1.2413e-11, 8.1380e-11, 5.7518e-10, 5.7119e-08,\n",
       "           1.1554e-05, 1.7154e-04, 1.0519e-03, 1.9576e-03, 3.5522e-03,\n",
       "           2.3597e-03, 2.2310e-03, 7.7846e-04, 2.3024e-04, 8.9826e-05,\n",
       "           9.9134e-05, 8.4673e-05, 3.3546e-04, 3.4702e-04, 4.4034e-04,\n",
       "           5.4626e-04, 5.0986e-04, 4.2347e-04, 1.4960e-04, 2.2881e-05,\n",
       "           2.6049e-06, 1.1052e-05, 3.9907e-02],\n",
       "          [3.4482e-08, 2.0566e-10, 2.0596e-08, 1.6211e-07, 9.4780e-06,\n",
       "           3.6375e-04, 2.7329e-03, 2.5967e-02, 4.1117e-02, 4.9017e-02,\n",
       "           1.8545e-02, 1.4977e-02, 6.4657e-03, 4.4910e-03, 1.8160e-03,\n",
       "           5.5292e-04, 1.4117e-03, 7.3812e-03, 1.2940e-02, 2.1553e-02,\n",
       "           1.3843e-02, 4.9544e-03, 1.5937e-03, 5.5661e-04, 6.7818e-05,\n",
       "           3.8415e-06, 7.9409e-06, 3.9907e-02],\n",
       "          [3.2187e-07, 7.8559e-09, 3.0406e-07, 2.5307e-06, 7.8303e-05,\n",
       "           3.1617e-03, 1.2803e-02, 8.9304e-02, 2.3133e-01, 2.6985e-01,\n",
       "           1.5832e-01, 4.6519e-02, 1.5020e-02, 1.0144e-02, 4.1551e-03,\n",
       "           2.2259e-03, 3.3401e-03, 2.4935e-02, 8.0840e-02, 1.5725e-01,\n",
       "           7.3838e-02, 1.6633e-02, 1.9503e-03, 4.0879e-04, 4.7234e-05,\n",
       "           5.3525e-06, 1.0404e-05, 3.9907e-02],\n",
       "          [1.5913e-05, 1.5967e-06, 1.6220e-05, 1.4066e-05, 4.8695e-04,\n",
       "           1.4606e-02, 9.2684e-02, 3.0531e-01, 5.3383e-01, 5.7335e-01,\n",
       "           2.3757e-01, 4.9204e-02, 2.1265e-02, 1.2570e-02, 6.3378e-03,\n",
       "           4.7544e-03, 1.6744e-02, 1.2235e-01, 4.3527e-01, 6.0790e-01,\n",
       "           3.7323e-01, 7.1477e-02, 5.5593e-03, 3.2843e-04, 9.2771e-05,\n",
       "           2.6887e-05, 6.1596e-05, 3.9907e-02],\n",
       "          [1.8635e-05, 1.6577e-06, 2.0230e-05, 5.7538e-05, 1.6405e-03,\n",
       "           2.8433e-02, 2.0490e-01, 4.9263e-01, 7.3099e-01, 6.4125e-01,\n",
       "           1.5930e-01, 3.2147e-02, 1.5780e-02, 1.0543e-02, 6.4787e-03,\n",
       "           8.8421e-03, 6.0092e-02, 2.7327e-01, 7.2214e-01, 7.5580e-01,\n",
       "           4.8734e-01, 9.9188e-02, 6.1846e-03, 2.8493e-04, 2.9453e-05,\n",
       "           4.7238e-06, 1.2513e-05, 3.9907e-02],\n",
       "          [3.9183e-05, 3.9139e-06, 9.9824e-05, 5.8450e-04, 5.4886e-03,\n",
       "           6.7821e-02, 2.6484e-01, 6.4395e-01, 8.1368e-01, 6.2008e-01,\n",
       "           1.4321e-01, 2.6533e-02, 1.6133e-02, 2.5628e-02, 2.7686e-02,\n",
       "           3.4289e-02, 1.9073e-01, 4.2528e-01, 8.0550e-01, 8.1413e-01,\n",
       "           4.5385e-01, 6.9073e-02, 5.7759e-03, 4.7053e-04, 1.5574e-05,\n",
       "           4.2854e-06, 1.1416e-05, 3.9907e-02],\n",
       "          [4.4539e-05, 1.4267e-05, 2.3400e-04, 2.0161e-03, 1.8896e-02,\n",
       "           1.4008e-01, 5.3216e-01, 8.5997e-01, 8.3225e-01, 4.5809e-01,\n",
       "           1.0659e-01, 3.4850e-02, 3.1236e-02, 4.8023e-02, 1.0128e-01,\n",
       "           2.0587e-01, 5.6735e-01, 8.2100e-01, 9.3545e-01, 8.6882e-01,\n",
       "           5.0182e-01, 1.0542e-01, 5.5426e-03, 1.8988e-04, 1.4990e-05,\n",
       "           1.6419e-06, 5.3894e-06, 3.9907e-02],\n",
       "          [1.7098e-04, 9.4090e-05, 1.3390e-03, 6.6544e-03, 5.0476e-02,\n",
       "           2.9445e-01, 7.5881e-01, 9.2009e-01, 8.4858e-01, 4.8050e-01,\n",
       "           1.5911e-01, 1.1891e-01, 1.9016e-01, 2.2855e-01, 4.2372e-01,\n",
       "           5.4076e-01, 7.7240e-01, 9.1067e-01, 9.5768e-01, 8.6849e-01,\n",
       "           4.8437e-01, 9.8046e-02, 7.4111e-03, 5.3066e-04, 1.0885e-04,\n",
       "           1.4727e-05, 4.2035e-05, 3.9907e-02],\n",
       "          [5.4550e-05, 1.5389e-05, 1.0153e-03, 1.0819e-02, 9.2987e-02,\n",
       "           4.4182e-01, 8.6715e-01, 9.2680e-01, 8.5921e-01, 4.7810e-01,\n",
       "           4.4306e-01, 5.7437e-01, 6.4911e-01, 6.0465e-01, 6.8188e-01,\n",
       "           7.7099e-01, 8.3240e-01, 8.6017e-01, 9.3770e-01, 8.3942e-01,\n",
       "           5.6424e-01, 2.1234e-01, 1.3497e-02, 7.7019e-04, 8.9710e-05,\n",
       "           1.3794e-05, 2.0268e-05, 3.9907e-02],\n",
       "          [8.7995e-05, 2.0390e-05, 1.7939e-03, 3.2432e-02, 2.3079e-01,\n",
       "           6.9692e-01, 8.9652e-01, 9.2767e-01, 8.9066e-01, 6.7484e-01,\n",
       "           6.8813e-01, 8.3521e-01, 8.7318e-01, 7.5955e-01, 7.3402e-01,\n",
       "           6.7063e-01, 7.3020e-01, 7.6839e-01, 8.7093e-01, 8.3277e-01,\n",
       "           7.1215e-01, 3.3088e-01, 3.1746e-02, 2.1075e-03, 3.8638e-04,\n",
       "           2.6937e-05, 3.4877e-05, 3.9907e-02],\n",
       "          [2.4495e-05, 1.6195e-05, 9.9432e-04, 4.2933e-02, 3.0665e-01,\n",
       "           6.5278e-01, 8.7814e-01, 8.8868e-01, 8.7879e-01, 7.9604e-01,\n",
       "           7.5655e-01, 8.2906e-01, 8.4776e-01, 6.8037e-01, 5.8926e-01,\n",
       "           4.7042e-01, 5.5579e-01, 6.9867e-01, 8.4215e-01, 8.5327e-01,\n",
       "           7.0692e-01, 3.4528e-01, 4.9882e-02, 3.2603e-03, 2.9772e-04,\n",
       "           2.5467e-05, 2.7247e-05, 3.9907e-02],\n",
       "          [6.4141e-05, 1.8557e-05, 7.7289e-04, 2.1368e-02, 1.7661e-01,\n",
       "           4.9311e-01, 6.5204e-01, 7.0595e-01, 6.9332e-01, 5.7194e-01,\n",
       "           4.9164e-01, 3.4073e-01, 3.0957e-01, 1.8309e-01, 1.3931e-01,\n",
       "           1.6122e-01, 2.1854e-01, 4.5891e-01, 7.9913e-01, 8.4759e-01,\n",
       "           7.3932e-01, 3.5869e-01, 3.3211e-02, 2.3301e-03, 3.1742e-04,\n",
       "           3.1481e-05, 6.6143e-05, 3.9907e-02],\n",
       "          [1.8800e-05, 3.2302e-06, 4.6551e-04, 8.0296e-03, 6.3274e-02,\n",
       "           2.1108e-01, 3.7470e-01, 4.0533e-01, 2.2989e-01, 2.0405e-01,\n",
       "           7.9105e-02, 2.6137e-02, 1.8592e-02, 2.0835e-02, 1.4716e-02,\n",
       "           2.6686e-02, 6.3309e-02, 4.5371e-01, 7.5669e-01, 8.7921e-01,\n",
       "           7.4920e-01, 2.4091e-01, 2.3467e-02, 2.4804e-03, 1.9335e-04,\n",
       "           1.8334e-05, 3.2239e-05, 3.9907e-02],\n",
       "          [3.8848e-05, 7.1780e-06, 2.1278e-04, 1.6610e-03, 2.1863e-02,\n",
       "           9.6307e-02, 1.0054e-01, 9.1774e-02, 4.2705e-02, 2.2058e-02,\n",
       "           6.4349e-03, 1.7215e-03, 1.6780e-03, 3.1242e-03, 2.5403e-03,\n",
       "           1.2715e-02, 8.1730e-02, 4.1059e-01, 7.2635e-01, 8.6066e-01,\n",
       "           6.9157e-01, 1.9608e-01, 2.5821e-02, 3.4565e-03, 6.0509e-04,\n",
       "           3.6423e-05, 2.0057e-05, 3.9907e-02],\n",
       "          [8.6804e-06, 3.2764e-06, 6.9125e-05, 8.0734e-04, 4.2616e-03,\n",
       "           1.4559e-02, 2.0854e-02, 1.5693e-02, 1.3778e-02, 6.8973e-03,\n",
       "           2.1724e-03, 7.2103e-04, 1.1730e-03, 1.5167e-03, 2.5152e-03,\n",
       "           9.4030e-03, 9.7051e-02, 4.1381e-01, 7.9318e-01, 8.3524e-01,\n",
       "           6.7871e-01, 1.4713e-01, 1.8574e-02, 2.6911e-03, 2.1524e-04,\n",
       "           1.2843e-05, 1.0842e-05, 3.9907e-02],\n",
       "          [2.0232e-04, 2.9603e-05, 1.0543e-04, 3.0715e-04, 1.5927e-03,\n",
       "           4.9916e-03, 5.8916e-03, 4.3783e-03, 4.5051e-03, 5.9326e-03,\n",
       "           2.6685e-03, 1.5324e-03, 1.1478e-03, 1.4546e-03, 3.8436e-03,\n",
       "           1.4024e-02, 1.1589e-01, 4.5259e-01, 7.9836e-01, 8.6384e-01,\n",
       "           5.4838e-01, 7.5110e-02, 1.1741e-02, 1.8047e-03, 1.4577e-04,\n",
       "           2.0434e-05, 3.8922e-05, 3.9907e-02],\n",
       "          [5.8413e-05, 3.0997e-06, 3.0246e-05, 1.4910e-04, 3.3805e-04,\n",
       "           9.6170e-04, 2.1441e-03, 3.7725e-03, 2.5427e-03, 3.4674e-03,\n",
       "           1.3235e-03, 2.2690e-03, 1.3782e-03, 1.0444e-03, 2.4960e-03,\n",
       "           2.7377e-02, 2.0316e-01, 5.9444e-01, 8.0986e-01, 8.1953e-01,\n",
       "           4.7258e-01, 8.0052e-02, 1.0493e-02, 1.3576e-03, 1.6489e-04,\n",
       "           2.9810e-05, 3.7954e-05, 3.9907e-02],\n",
       "          [3.5541e-05, 2.9739e-06, 3.2163e-05, 4.7309e-05, 9.9044e-05,\n",
       "           1.9350e-04, 7.8876e-04, 1.9388e-03, 1.4520e-03, 1.8276e-03,\n",
       "           1.4766e-03, 4.3880e-03, 2.9658e-03, 2.0127e-03, 1.0807e-02,\n",
       "           7.4164e-02, 3.2392e-01, 6.3736e-01, 8.1578e-01, 7.1355e-01,\n",
       "           4.1004e-01, 8.5928e-02, 1.9780e-02, 2.9894e-03, 3.6856e-04,\n",
       "           7.0420e-05, 3.4485e-05, 3.9907e-02],\n",
       "          [5.0064e-06, 7.2726e-07, 6.7882e-06, 8.1738e-06, 9.9128e-06,\n",
       "           4.9693e-05, 9.2438e-05, 2.1064e-04, 3.7971e-04, 7.8128e-04,\n",
       "           1.2018e-03, 2.9281e-03, 4.8477e-03, 1.9283e-02, 4.0866e-02,\n",
       "           1.7027e-01, 3.7912e-01, 6.9982e-01, 8.1213e-01, 6.7528e-01,\n",
       "           4.1064e-01, 1.3451e-01, 3.1769e-02, 4.1099e-03, 2.9622e-04,\n",
       "           2.1134e-05, 1.0177e-05, 3.9907e-02],\n",
       "          [1.1056e-05, 4.5273e-07, 6.5613e-06, 3.7248e-06, 5.3720e-06,\n",
       "           1.1316e-05, 4.8433e-05, 2.9744e-04, 1.9216e-04, 5.5239e-04,\n",
       "           7.9394e-04, 1.3229e-03, 3.9930e-03, 2.2445e-02, 8.2176e-02,\n",
       "           2.1043e-01, 3.9089e-01, 6.1612e-01, 7.2240e-01, 6.6399e-01,\n",
       "           5.0744e-01, 2.1639e-01, 4.0266e-02, 2.9699e-03, 2.8435e-04,\n",
       "           2.3368e-05, 2.9010e-05, 3.9907e-02],\n",
       "          [1.0767e-05, 6.9260e-07, 2.6834e-06, 1.0759e-06, 2.4486e-06,\n",
       "           8.0314e-06, 1.9925e-05, 1.6310e-04, 1.8447e-04, 4.1685e-04,\n",
       "           4.5893e-04, 6.9248e-04, 1.8375e-03, 5.8328e-03, 2.3585e-02,\n",
       "           1.0619e-01, 2.3210e-01, 4.4228e-01, 5.0319e-01, 4.0979e-01,\n",
       "           2.9468e-01, 1.3235e-01, 1.3790e-02, 1.0431e-03, 2.8895e-04,\n",
       "           5.4765e-05, 1.0630e-04, 3.9907e-02],\n",
       "          [3.0658e-05, 6.3133e-07, 1.4267e-06, 6.5742e-07, 1.1132e-06,\n",
       "           4.1220e-06, 8.8066e-06, 1.8211e-04, 1.4663e-04, 1.8843e-04,\n",
       "           5.1009e-04, 1.1826e-03, 1.2891e-03, 3.9870e-03, 7.6264e-03,\n",
       "           2.5451e-02, 8.0380e-02, 1.7594e-01, 1.4222e-01, 9.8978e-02,\n",
       "           6.7002e-02, 2.1101e-02, 3.8030e-03, 3.6188e-04, 1.2081e-04,\n",
       "           6.3732e-05, 1.5700e-04, 3.9907e-02],\n",
       "          [3.8258e-05, 6.3927e-06, 4.6561e-06, 5.9808e-06, 5.1328e-06,\n",
       "           1.5718e-05, 3.6910e-05, 5.3397e-04, 2.7775e-04, 4.1767e-04,\n",
       "           6.4160e-04, 1.8510e-03, 2.2238e-03, 5.9950e-03, 5.0332e-03,\n",
       "           8.1957e-03, 1.1872e-02, 2.0012e-02, 2.0458e-02, 1.9663e-02,\n",
       "           9.4965e-03, 4.1225e-03, 7.8233e-04, 1.4516e-04, 1.4328e-04,\n",
       "           1.0308e-04, 5.8403e-04, 3.9907e-02],\n",
       "          [3.9907e-02, 3.9907e-02, 3.9907e-02, 3.9907e-02, 3.9907e-02,\n",
       "           3.9907e-02, 3.9907e-02, 3.9907e-02, 3.9907e-02, 3.9907e-02,\n",
       "           3.9907e-02, 3.9907e-02, 3.9907e-02, 3.9907e-02, 3.9907e-02,\n",
       "           3.9907e-02, 3.9907e-02, 3.9907e-02, 3.9907e-02, 3.9907e-02,\n",
       "           3.9907e-02, 3.9907e-02, 3.9907e-02, 3.9907e-02, 3.9907e-02,\n",
       "           3.9907e-02, 3.9907e-02, 3.9907e-02]]]], device='cuda:0',\n",
       "       grad_fn=<ViewBackward0>)"
      ]
     },
     "execution_count": 20,
     "metadata": {},
     "output_type": "execute_result"
    }
   ],
   "source": [
    "recon"
   ]
  },
  {
   "cell_type": "code",
   "execution_count": 11,
   "id": "3d1713a3",
   "metadata": {},
   "outputs": [
    {
     "data": {
      "text/plain": [
       "tensor([[[[0.0000, 0.0000, 0.0000, 0.0000, 0.0000, 0.0000, 0.0000, 0.0000,\n",
       "           0.0000, 0.0000, 0.0000, 0.0000, 0.0000, 0.0000, 0.0000, 0.0000,\n",
       "           0.0000, 0.0000, 0.0000, 0.0000, 0.0000, 0.0000, 0.0000, 0.0000,\n",
       "           0.0000, 0.0000, 0.0000, 0.0000],\n",
       "          [0.0000, 0.0000, 0.0000, 0.0000, 0.0000, 0.0000, 0.0000, 0.0000,\n",
       "           0.0000, 0.0000, 0.0000, 0.0000, 0.0000, 0.0000, 0.0000, 0.0000,\n",
       "           0.0000, 0.0000, 0.0000, 0.0000, 0.0000, 0.0000, 0.0000, 0.0000,\n",
       "           0.0000, 0.0000, 0.0000, 0.0000],\n",
       "          [0.0000, 0.0000, 0.0000, 0.0000, 0.0000, 0.0000, 0.0000, 0.0000,\n",
       "           0.0000, 0.0000, 0.0000, 0.0000, 0.0000, 0.0000, 0.0000, 0.0000,\n",
       "           0.0000, 0.0000, 0.0000, 0.0000, 0.0000, 0.0000, 0.0000, 0.0000,\n",
       "           0.0000, 0.0000, 0.0000, 0.0000],\n",
       "          [0.0000, 0.0000, 0.0000, 0.0000, 0.0000, 0.0000, 0.0000, 0.0000,\n",
       "           0.0000, 0.0000, 0.0000, 0.0000, 0.0000, 0.0000, 0.0000, 0.0000,\n",
       "           0.0000, 0.0000, 0.0000, 0.0000, 0.0000, 0.0000, 0.0000, 0.0000,\n",
       "           0.0000, 0.0000, 0.0000, 0.0000],\n",
       "          [0.0000, 0.0000, 0.0000, 0.0000, 0.0000, 0.0000, 0.0000, 0.0000,\n",
       "           0.0000, 0.0000, 0.0000, 0.0000, 0.0000, 0.0000, 0.0000, 0.0000,\n",
       "           0.0000, 0.0000, 0.0000, 0.0000, 0.0000, 0.0000, 0.0000, 0.0000,\n",
       "           0.0000, 0.0000, 0.0000, 0.0000],\n",
       "          [0.0000, 0.0000, 0.0000, 0.0000, 0.0000, 0.0000, 0.0000, 0.0000,\n",
       "           0.0000, 0.0000, 0.0000, 0.0000, 0.0000, 0.0000, 0.0000, 0.0000,\n",
       "           0.0000, 0.0667, 0.0706, 0.3451, 0.6196, 0.9961, 0.9961, 0.6000,\n",
       "           0.0000, 0.0000, 0.0000, 0.0000],\n",
       "          [0.0000, 0.0000, 0.0000, 0.0000, 0.0000, 0.0000, 0.0000, 0.0000,\n",
       "           0.0000, 0.0000, 0.0000, 0.0000, 0.0000, 0.0000, 0.0353, 0.5020,\n",
       "           0.6039, 0.9569, 0.9922, 0.9922, 0.9922, 0.9922, 0.9922, 0.3176,\n",
       "           0.0000, 0.0000, 0.0000, 0.0000],\n",
       "          [0.0000, 0.0000, 0.0000, 0.0000, 0.0000, 0.0000, 0.0000, 0.0000,\n",
       "           0.0000, 0.0000, 0.0000, 0.0000, 0.0000, 0.2118, 0.7490, 0.9922,\n",
       "           0.9922, 0.9922, 0.9922, 0.9922, 0.9922, 0.9412, 0.7020, 0.2549,\n",
       "           0.1137, 0.0000, 0.0000, 0.0000],\n",
       "          [0.0000, 0.0000, 0.0000, 0.0000, 0.0000, 0.0000, 0.0000, 0.0000,\n",
       "           0.0000, 0.0000, 0.0000, 0.0000, 0.2000, 0.9020, 0.9922, 0.9922,\n",
       "           0.7569, 0.5059, 0.2549, 0.6824, 0.9922, 0.9294, 0.8235, 0.9922,\n",
       "           0.8745, 0.0000, 0.0000, 0.0000],\n",
       "          [0.0000, 0.0000, 0.0000, 0.0000, 0.0000, 0.0000, 0.0000, 0.0000,\n",
       "           0.0000, 0.0000, 0.0000, 0.0196, 0.9137, 0.9922, 0.8039, 0.1843,\n",
       "           0.0314, 0.0000, 0.0392, 0.9176, 0.9922, 0.9922, 0.9922, 0.9922,\n",
       "           0.6118, 0.0000, 0.0000, 0.0000],\n",
       "          [0.0000, 0.0000, 0.0000, 0.0000, 0.0000, 0.0000, 0.0000, 0.0000,\n",
       "           0.0000, 0.0000, 0.0000, 0.2196, 0.9922, 0.9255, 0.2275, 0.0000,\n",
       "           0.3529, 0.4196, 0.8784, 0.9922, 0.9922, 0.8863, 0.5765, 0.3922,\n",
       "           0.0627, 0.0000, 0.0000, 0.0000],\n",
       "          [0.0000, 0.0000, 0.0000, 0.0000, 0.0000, 0.0000, 0.0000, 0.0000,\n",
       "           0.0000, 0.0000, 0.0000, 0.2627, 0.9922, 0.9098, 0.1647, 0.7373,\n",
       "           0.9882, 0.9922, 0.9922, 0.9804, 0.8824, 0.1608, 0.0000, 0.0000,\n",
       "           0.0000, 0.0000, 0.0000, 0.0000],\n",
       "          [0.0000, 0.0000, 0.0000, 0.0000, 0.0000, 0.0000, 0.0000, 0.0000,\n",
       "           0.0000, 0.0000, 0.0000, 0.2431, 0.9922, 0.9922, 0.9922, 0.9922,\n",
       "           0.9922, 0.9098, 0.4471, 0.1843, 0.0000, 0.0000, 0.0000, 0.0000,\n",
       "           0.0000, 0.0000, 0.0000, 0.0000],\n",
       "          [0.0000, 0.0000, 0.0000, 0.0000, 0.0000, 0.0000, 0.0000, 0.0000,\n",
       "           0.0000, 0.0000, 0.1451, 0.4000, 0.9922, 0.9922, 0.9569, 0.8314,\n",
       "           0.4431, 0.0353, 0.0000, 0.0000, 0.0000, 0.0000, 0.0000, 0.0000,\n",
       "           0.0000, 0.0000, 0.0000, 0.0000],\n",
       "          [0.0000, 0.0000, 0.0000, 0.0000, 0.0000, 0.0000, 0.0000, 0.0000,\n",
       "           0.0000, 0.4627, 0.9608, 0.9922, 0.9922, 0.9922, 0.8157, 0.0549,\n",
       "           0.0000, 0.0000, 0.0000, 0.0000, 0.0000, 0.0000, 0.0000, 0.0000,\n",
       "           0.0000, 0.0000, 0.0000, 0.0000],\n",
       "          [0.0000, 0.0000, 0.0000, 0.0000, 0.0000, 0.0000, 0.0000, 0.0000,\n",
       "           0.5725, 0.8471, 0.9922, 0.8431, 0.7176, 0.9922, 0.8863, 0.1216,\n",
       "           0.0000, 0.0000, 0.0000, 0.0000, 0.0000, 0.0000, 0.0000, 0.0000,\n",
       "           0.0000, 0.0000, 0.0000, 0.0000],\n",
       "          [0.0000, 0.0000, 0.0000, 0.0000, 0.0000, 0.0000, 0.0000, 0.3529,\n",
       "           0.9529, 0.9922, 0.8353, 0.1020, 0.0588, 0.8549, 0.9922, 0.4039,\n",
       "           0.0000, 0.0000, 0.0000, 0.0000, 0.0000, 0.0000, 0.0000, 0.0000,\n",
       "           0.0000, 0.0000, 0.0000, 0.0000],\n",
       "          [0.0000, 0.0000, 0.0000, 0.0000, 0.0000, 0.0000, 0.1294, 0.9647,\n",
       "           0.9922, 0.6745, 0.0549, 0.0000, 0.0000, 0.4235, 0.9922, 0.8235,\n",
       "           0.0706, 0.0000, 0.0000, 0.0000, 0.0000, 0.0000, 0.0000, 0.0000,\n",
       "           0.0000, 0.0000, 0.0000, 0.0000],\n",
       "          [0.0000, 0.0000, 0.0000, 0.0000, 0.0000, 0.0941, 0.9765, 0.9922,\n",
       "           0.2667, 0.0157, 0.0000, 0.0000, 0.0000, 0.3804, 0.9922, 0.8510,\n",
       "           0.0863, 0.0000, 0.0000, 0.0000, 0.0000, 0.0000, 0.0000, 0.0000,\n",
       "           0.0000, 0.0000, 0.0000, 0.0000],\n",
       "          [0.0000, 0.0000, 0.0000, 0.0000, 0.0000, 0.5333, 0.9922, 0.8706,\n",
       "           0.1059, 0.0000, 0.0000, 0.0000, 0.0118, 0.4784, 0.9922, 0.9922,\n",
       "           0.1608, 0.0000, 0.0000, 0.0000, 0.0000, 0.0000, 0.0000, 0.0000,\n",
       "           0.0000, 0.0000, 0.0000, 0.0000],\n",
       "          [0.0000, 0.0000, 0.0000, 0.0000, 0.0000, 0.6196, 0.9922, 0.4824,\n",
       "           0.0000, 0.0000, 0.0000, 0.0941, 0.4824, 0.9922, 0.9922, 0.9373,\n",
       "           0.1294, 0.0000, 0.0000, 0.0000, 0.0000, 0.0000, 0.0000, 0.0000,\n",
       "           0.0000, 0.0000, 0.0000, 0.0000],\n",
       "          [0.0000, 0.0000, 0.0000, 0.0000, 0.0000, 1.0000, 0.8941, 0.0902,\n",
       "           0.0000, 0.0000, 0.2275, 0.8353, 0.9922, 0.9922, 0.9333, 0.2980,\n",
       "           0.0000, 0.0000, 0.0000, 0.0000, 0.0000, 0.0000, 0.0000, 0.0000,\n",
       "           0.0000, 0.0000, 0.0000, 0.0000],\n",
       "          [0.0000, 0.0000, 0.0000, 0.0000, 0.0000, 1.0000, 0.8549, 0.0000,\n",
       "           0.2471, 0.4902, 0.9686, 0.9922, 0.9922, 0.8627, 0.1569, 0.0000,\n",
       "           0.0000, 0.0000, 0.0000, 0.0000, 0.0000, 0.0000, 0.0000, 0.0000,\n",
       "           0.0000, 0.0000, 0.0000, 0.0000],\n",
       "          [0.0000, 0.0000, 0.0000, 0.0000, 0.0000, 0.9961, 0.9725, 0.8588,\n",
       "           0.9608, 0.9922, 0.9922, 0.8000, 0.3412, 0.1137, 0.0000, 0.0000,\n",
       "           0.0000, 0.0000, 0.0000, 0.0000, 0.0000, 0.0000, 0.0000, 0.0000,\n",
       "           0.0000, 0.0000, 0.0000, 0.0000],\n",
       "          [0.0000, 0.0000, 0.0000, 0.0000, 0.0000, 0.3490, 0.9922, 0.9922,\n",
       "           0.9922, 0.9922, 0.5804, 0.0549, 0.0000, 0.0000, 0.0000, 0.0000,\n",
       "           0.0000, 0.0000, 0.0000, 0.0000, 0.0000, 0.0000, 0.0000, 0.0000,\n",
       "           0.0000, 0.0000, 0.0000, 0.0000],\n",
       "          [0.0000, 0.0000, 0.0000, 0.0000, 0.0000, 0.0000, 0.0000, 0.0000,\n",
       "           0.0000, 0.0000, 0.0000, 0.0000, 0.0000, 0.0000, 0.0000, 0.0000,\n",
       "           0.0000, 0.0000, 0.0000, 0.0000, 0.0000, 0.0000, 0.0000, 0.0000,\n",
       "           0.0000, 0.0000, 0.0000, 0.0000],\n",
       "          [0.0000, 0.0000, 0.0000, 0.0000, 0.0000, 0.0000, 0.0000, 0.0000,\n",
       "           0.0000, 0.0000, 0.0000, 0.0000, 0.0000, 0.0000, 0.0000, 0.0000,\n",
       "           0.0000, 0.0000, 0.0000, 0.0000, 0.0000, 0.0000, 0.0000, 0.0000,\n",
       "           0.0000, 0.0000, 0.0000, 0.0000],\n",
       "          [0.0000, 0.0000, 0.0000, 0.0000, 0.0000, 0.0000, 0.0000, 0.0000,\n",
       "           0.0000, 0.0000, 0.0000, 0.0000, 0.0000, 0.0000, 0.0000, 0.0000,\n",
       "           0.0000, 0.0000, 0.0000, 0.0000, 0.0000, 0.0000, 0.0000, 0.0000,\n",
       "           0.0000, 0.0000, 0.0000, 0.0000]]]])"
      ]
     },
     "execution_count": 11,
     "metadata": {},
     "output_type": "execute_result"
    }
   ],
   "source": [
    "img[0]"
   ]
  },
  {
   "cell_type": "code",
   "execution_count": 21,
   "id": "74cced99",
   "metadata": {},
   "outputs": [
    {
     "data": {
      "text/plain": [
       "<matplotlib.image.AxesImage at 0x1d5665dc670>"
      ]
     },
     "execution_count": 21,
     "metadata": {},
     "output_type": "execute_result"
    },
    {
     "data": {
      "image/png": "[encoded data removed]",
      "text/plain": [
       "<Figure size 640x480 with 1 Axes>"
      ]
     },
     "metadata": {},
     "output_type": "display_data"
    }
   ],
   "source": [
    "plt.imshow(recon.squeeze().detach().cpu())"
   ]
  },
  {
   "cell_type": "code",
   "execution_count": null,
   "id": "d6a41ff1",
   "metadata": {},
   "outputs": [],
   "source": []
  },
  {
   "cell_type": "code",
   "execution_count": null,
   "id": "28eba54a",
   "metadata": {},
   "outputs": [
    {
     "data": {
      "text/plain": [
       "<matplotlib.image.AxesImage at 0x1d567ef7ac0>"
      ]
     },
     "execution_count": 56,
     "metadata": {},
     "output_type": "execute_result"
    },
    {
     "data": {
      "image/png": "[encoded data removed]",
      "text/plain": [
       "<Figure size 640x480 with 1 Axes>"
      ]
     },
     "metadata": {},
     "output_type": "display_data"
    }
   ],
   "source": [
    "z = torch.randn(size=(1024,), device='cuda') + .005\n",
    "output = model.decoder(z).detach().cpu()\n",
    "plt.imshow(output.squeeze().squeeze())"
   ]
  },
  {
   "cell_type": "code",
   "execution_count": 65,
   "id": "baa1b018",
   "metadata": {},
   "outputs": [],
   "source": [
    "def morph_between(model, img1, img2, steps=20, device='cuda'):\n",
    "    \"\"\"\n",
    "    Interpolates in latent space between two input images and decodes.\n",
    "    \"\"\"\n",
    "    model.eval()\n",
    "    img1, img2 = img1.to(device), img2.to(device)\n",
    "    with torch.no_grad():\n",
    "        mean1, logvar1 = model.encoder(img1)\n",
    "        mean2, logvar2 = model.encoder(img2)\n",
    "        z1 = mean1  # use mean for interpolation\n",
    "        z2 = mean2\n",
    "\n",
    "        imgs = []\n",
    "        for alpha in np.linspace(0, 1, steps):\n",
    "            z = (1 - alpha) * z1 + alpha * z2\n",
    "            recon = model.decoder(z).squeeze().cpu()\n",
    "            imgs.append(recon)\n",
    "\n",
    "    fig, axes = plt.subplots(1, steps, figsize=(steps, 1))\n",
    "    for i in range(steps):\n",
    "        axes[i].imshow(imgs[i], cmap='gray')\n",
    "        axes[i].axis('off')\n",
    "    plt.show()"
   ]
  },
  {
   "cell_type": "code",
   "execution_count": 89,
   "id": "47c58826",
   "metadata": {},
   "outputs": [
    {
     "data": {
      "text/plain": [
       "<matplotlib.image.AxesImage at 0x1d56853f2e0>"
      ]
     },
     "execution_count": 89,
     "metadata": {},
     "output_type": "execute_result"
    },
    {
     "data": {
      "image/png": "[encoded data removed]",
      "text/plain": [
       "<Figure size 640x480 with 1 Axes>"
      ]
     },
     "metadata": {},
     "output_type": "display_data"
    }
   ],
   "source": [
    "import matplotlib.pyplot as plt\n",
    "img1 = next(iter(test))\n",
    "img2 = next(iter(test))\n",
    "plt.imshow(img2[0].squeeze().squeeze())"
   ]
  },
  {
   "cell_type": "code",
   "execution_count": 90,
   "id": "55843536",
   "metadata": {},
   "outputs": [
    {
     "data": {
      "text/plain": [
       "<matplotlib.image.AxesImage at 0x1d5685b7610>"
      ]
     },
     "execution_count": 90,
     "metadata": {},
     "output_type": "execute_result"
    },
    {
     "data": {
      "image/png": "[encoded data removed]",
      "text/plain": [
       "<Figure size 640x480 with 1 Axes>"
      ]
     },
     "metadata": {},
     "output_type": "display_data"
    }
   ],
   "source": [
    "plt.imshow(img1[0].squeeze().squeeze())"
   ]
  },
  {
   "cell_type": "code",
   "execution_count": 91,
   "id": "fd9ca0db",
   "metadata": {},
   "outputs": [
    {
     "data": {
      "image/png": "[encoded data removed]",
      "text/plain": [
       "<Figure size 2000x100 with 20 Axes>"
      ]
     },
     "metadata": {},
     "output_type": "display_data"
    }
   ],
   "source": [
    "morph_between(model, img1=img1[0], img2=img2[0], steps=20, device='cuda')"
   ]
  },
  {
   "cell_type": "code",
   "execution_count": null,
   "id": "d277239d",
   "metadata": {},
   "outputs": [],
   "source": []
  }
 ],
 "metadata": {
  "kernelspec": {
   "display_name": "variational-encoder-from-scratch-pytorch",
   "language": "python",
   "name": "python3"
  },
  "language_info": {
   "codemirror_mode": {
    "name": "ipython",
    "version": 3
   },
   "file_extension": ".py",
   "mimetype": "text/x-python",
   "name": "python",
   "nbconvert_exporter": "python",
   "pygments_lexer": "ipython3",
   "version": "3.9.21"
  }
 },
 "nbformat": 4,
 "nbformat_minor": 5
}
