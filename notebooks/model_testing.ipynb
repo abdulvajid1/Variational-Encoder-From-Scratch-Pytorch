{
 "cells": [
  {
   "cell_type": "code",
   "execution_count": 1,
   "id": "bc20cd35",
   "metadata": {},
   "outputs": [
    {
     "name": "stdout",
     "output_type": "stream",
     "text": [
      "Device set to cpu\n"
     ]
    }
   ],
   "source": [
    "from model import Encoder\n",
    "import torch"
   ]
  },
  {
   "cell_type": "code",
   "execution_count": 2,
   "id": "dc2c61e9",
   "metadata": {},
   "outputs": [],
   "source": [
    "encoder = Encoder(latent_dim=252)"
   ]
  },
  {
   "cell_type": "code",
   "execution_count": 3,
   "id": "7259a3d5",
   "metadata": {},
   "outputs": [],
   "source": [
    "x = torch.rand((2, 3, 96, 96))"
   ]
  },
  {
   "cell_type": "code",
   "execution_count": 11,
   "id": "e5a09cae",
   "metadata": {},
   "outputs": [
    {
     "data": {
      "text/plain": [
       "torch.Size([2, 252])"
      ]
     },
     "execution_count": 11,
     "metadata": {},
     "output_type": "execute_result"
    }
   ],
   "source": [
    "enc = encoder(x)\n",
    "enc[0].shape"
   ]
  },
  {
   "cell_type": "code",
   "execution_count": 5,
   "id": "b6e04611",
   "metadata": {},
   "outputs": [
    {
     "data": {
      "text/plain": [
       "torch.Size([2, 64, 23, 23])"
      ]
     },
     "execution_count": 5,
     "metadata": {},
     "output_type": "execute_result"
    }
   ],
   "source": [
    "torch.nn.Sequential(\n",
    "    torch.nn.Conv2d(3, 32, kernel_size=3, stride=2),\n",
    "    torch.nn.Conv2d(32, 64, kernel_size=3, stride=2),\n",
    "    \n",
    ")(x).shape"
   ]
  },
  {
   "cell_type": "code",
   "execution_count": 6,
   "id": "29e2a232",
   "metadata": {},
   "outputs": [
    {
     "data": {
      "text/plain": [
       "33856"
      ]
     },
     "execution_count": 6,
     "metadata": {},
     "output_type": "execute_result"
    }
   ],
   "source": [
    "64 * 23 * 23"
   ]
  },
  {
   "cell_type": "code",
   "execution_count": 12,
   "id": "7e627576",
   "metadata": {},
   "outputs": [
    {
     "name": "stdout",
     "output_type": "stream",
     "text": [
      "torch.Size([2, 252])\n",
      "torch.Size([2, 33856])\n"
     ]
    },
    {
     "data": {
      "text/plain": [
       "torch.Size([2, 3, 95, 95])"
      ]
     },
     "execution_count": 12,
     "metadata": {},
     "output_type": "execute_result"
    }
   ],
   "source": [
    "from model import Decoder\n",
    "Decoder(latent_dim=252)(torch.rand((2, 252))).shape"
   ]
  },
  {
   "cell_type": "code",
   "execution_count": 3,
   "id": "8d95d5a9",
   "metadata": {},
   "outputs": [],
   "source": [
    "x = torch.rand(size=(5, 3, 96, 96))"
   ]
  },
  {
   "cell_type": "code",
   "execution_count": 9,
   "id": "8f3a2742",
   "metadata": {},
   "outputs": [],
   "source": [
    "x = encoder(x)"
   ]
  },
  {
   "cell_type": "code",
   "execution_count": 5,
   "id": "865be4e6",
   "metadata": {},
   "outputs": [
    {
     "data": {
      "text/plain": [
       "33856"
      ]
     },
     "execution_count": 5,
     "metadata": {},
     "output_type": "execute_result"
    }
   ],
   "source": [
    "33856"
   ]
  },
  {
   "cell_type": "code",
   "execution_count": 10,
   "id": "efbf52a6",
   "metadata": {},
   "outputs": [
    {
     "data": {
      "text/plain": [
       "torch.Size([5, 252])"
      ]
     },
     "execution_count": 10,
     "metadata": {},
     "output_type": "execute_result"
    }
   ],
   "source": [
    "x[0].shape"
   ]
  },
  {
   "cell_type": "code",
   "execution_count": 11,
   "id": "c316d1f4",
   "metadata": {},
   "outputs": [],
   "source": [
    "# Decoder\n",
    "\n",
    "from model import Decoder"
   ]
  },
  {
   "cell_type": "code",
   "execution_count": null,
   "id": "42aab0f2",
   "metadata": {},
   "outputs": [],
   "source": []
  }
 ],
 "metadata": {
  "kernelspec": {
   "display_name": "variational-encoder-from-scratch-pytorch",
   "language": "python",
   "name": "python3"
  },
  "language_info": {
   "codemirror_mode": {
    "name": "ipython",
    "version": 3
   },
   "file_extension": ".py",
   "mimetype": "text/x-python",
   "name": "python",
   "nbconvert_exporter": "python",
   "pygments_lexer": "ipython3",
   "version": "3.9.21"
  }
 },
 "nbformat": 4,
 "nbformat_minor": 5
}
