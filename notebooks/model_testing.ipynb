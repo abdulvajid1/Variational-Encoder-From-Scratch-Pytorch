{
 "cells": [
  {
   "cell_type": "code",
   "execution_count": 1,
   "id": "bc20cd35",
   "metadata": {},
   "outputs": [
    {
     "name": "stdout",
     "output_type": "stream",
     "text": [
      "Device set to cpu\n"
     ]
    }
   ],
   "source": [
    "from model import Encoder\n",
    "import torch"
   ]
  },
  {
   "cell_type": "code",
   "execution_count": 2,
   "id": "dc2c61e9",
   "metadata": {},
   "outputs": [],
   "source": [
    "encoder = Encoder(latent_dim=252)"
   ]
  },
  {
   "cell_type": "code",
   "execution_count": 3,
   "id": "7259a3d5",
   "metadata": {},
   "outputs": [],
   "source": [
    "\n",
    "x = torch.rand((2, 3, 96, 96))"
   ]
  },
  {
   "cell_type": "code",
   "execution_count": 4,
   "id": "e5a09cae",
   "metadata": {},
   "outputs": [
    {
     "data": {
      "text/plain": [
       "torch.Size([2, 252])"
      ]
     },
     "execution_count": 4,
     "metadata": {},
     "output_type": "execute_result"
    }
   ],
   "source": [
    "enc = encoder(x)\n",
    "enc[0].shape"
   ]
  },
  {
   "cell_type": "code",
   "execution_count": 5,
   "id": "b6e04611",
   "metadata": {},
   "outputs": [
    {
     "data": {
      "text/plain": [
       "torch.Size([2, 64, 23, 23])"
      ]
     },
     "execution_count": 5,
     "metadata": {},
     "output_type": "execute_result"
    }
   ],
   "source": [
    "torch.nn.Sequential(\n",
    "    torch.nn.Conv2d(3, 32, kernel_size=3, stride=2),\n",
    "    torch.nn.Conv2d(32, 64, kernel_size=3, stride=2),\n",
    "    \n",
    ")(x).shape"
   ]
  },
  {
   "cell_type": "code",
   "execution_count": 6,
   "id": "29e2a232",
   "metadata": {},
   "outputs": [
    {
     "data": {
      "text/plain": [
       "33856"
      ]
     },
     "execution_count": 6,
     "metadata": {},
     "output_type": "execute_result"
    }
   ],
   "source": [
    "64 * 23 * 23"
   ]
  },
  {
   "cell_type": "code",
   "execution_count": 7,
   "id": "7e627576",
   "metadata": {},
   "outputs": [
    {
     "data": {
      "text/plain": [
       "torch.Size([2, 3, 96, 96])"
      ]
     },
     "execution_count": 7,
     "metadata": {},
     "output_type": "execute_result"
    }
   ],
   "source": [
    "from model import Decoder\n",
    "Decoder(latent_dim=252)(torch.rand((2, 252))).shape"
   ]
  },
  {
   "cell_type": "code",
   "execution_count": 8,
   "id": "9907e10a",
   "metadata": {},
   "outputs": [],
   "source": [
    "from model import VariationalAutoEncoder\n",
    "model = VariationalAutoEncoder(latent_dim=256, kl_div_beta=.9)"
   ]
  },
  {
   "cell_type": "code",
   "execution_count": 11,
   "id": "931dd058",
   "metadata": {},
   "outputs": [
    {
     "data": {
      "text/plain": [
       "torch.Size([2, 3, 96, 96])"
      ]
     },
     "execution_count": 11,
     "metadata": {},
     "output_type": "execute_result"
    }
   ],
   "source": [
    "model(x)[0].shape"
   ]
  },
  {
   "cell_type": "code",
   "execution_count": 10,
   "id": "021e47bb",
   "metadata": {},
   "outputs": [
    {
     "ename": "NameError",
     "evalue": "name 'output' is not defined",
     "output_type": "error",
     "traceback": [
      "\u001b[1;31m---------------------------------------------------------------------------\u001b[0m",
      "\u001b[1;31mNameError\u001b[0m                                 Traceback (most recent call last)",
      "Cell \u001b[1;32mIn[10], line 2\u001b[0m\n\u001b[0;32m      1\u001b[0m \u001b[38;5;28;01mimport\u001b[39;00m\u001b[38;5;250m \u001b[39m\u001b[38;5;21;01mmatplotlib\u001b[39;00m\u001b[38;5;21;01m.\u001b[39;00m\u001b[38;5;21;01mpyplot\u001b[39;00m\u001b[38;5;250m \u001b[39m\u001b[38;5;28;01mas\u001b[39;00m\u001b[38;5;250m \u001b[39m\u001b[38;5;21;01mplt\u001b[39;00m\n\u001b[1;32m----> 2\u001b[0m plt\u001b[38;5;241m.\u001b[39mimshow(\u001b[43moutput\u001b[49m[\u001b[38;5;241m0\u001b[39m][\u001b[38;5;241m0\u001b[39m]\u001b[38;5;241m.\u001b[39mdetach()\u001b[38;5;241m.\u001b[39mpermute(\u001b[38;5;241m1\u001b[39m, \u001b[38;5;241m2\u001b[39m, \u001b[38;5;241m0\u001b[39m)\u001b[38;5;241m.\u001b[39mnumpy())\n",
      "\u001b[1;31mNameError\u001b[0m: name 'output' is not defined"
     ]
    }
   ],
   "source": [
    "import matplotlib.pyplot as plt\n",
    "plt.imshow(output[0][0].detach().permute(1, 2, 0).numpy())\n"
   ]
  },
  {
   "cell_type": "code",
   "execution_count": null,
   "id": "3304e91d",
   "metadata": {},
   "outputs": [],
   "source": []
  },
  {
   "cell_type": "code",
   "execution_count": null,
   "id": "8d95d5a9",
   "metadata": {},
   "outputs": [],
   "source": [
    "x = torch.rand(size=(5, 3, 96, 96))"
   ]
  },
  {
   "cell_type": "code",
   "execution_count": null,
   "id": "8f3a2742",
   "metadata": {},
   "outputs": [],
   "source": [
    "x = encoder(x)"
   ]
  },
  {
   "cell_type": "code",
   "execution_count": null,
   "id": "865be4e6",
   "metadata": {},
   "outputs": [
    {
     "data": {
      "text/plain": [
       "33856"
      ]
     },
     "execution_count": 12,
     "metadata": {},
     "output_type": "execute_result"
    }
   ],
   "source": [
    "33856"
   ]
  },
  {
   "cell_type": "code",
   "execution_count": null,
   "id": "efbf52a6",
   "metadata": {},
   "outputs": [
    {
     "data": {
      "text/plain": [
       "torch.Size([5, 252])"
      ]
     },
     "execution_count": 13,
     "metadata": {},
     "output_type": "execute_result"
    }
   ],
   "source": [
    "x[0].shape"
   ]
  },
  {
   "cell_type": "code",
   "execution_count": null,
   "id": "c316d1f4",
   "metadata": {},
   "outputs": [],
   "source": [
    "# Decoder\n",
    "\n",
    "from model import Decoder"
   ]
  },
  {
   "cell_type": "code",
   "execution_count": null,
   "id": "42aab0f2",
   "metadata": {},
   "outputs": [],
   "source": []
  }
 ],
 "metadata": {
  "kernelspec": {
   "display_name": "variational-encoder-from-scratch-pytorch",
   "language": "python",
   "name": "python3"
  },
  "language_info": {
   "codemirror_mode": {
    "name": "ipython",
    "version": 3
   },
   "file_extension": ".py",
   "mimetype": "text/x-python",
   "name": "python",
   "nbconvert_exporter": "python",
   "pygments_lexer": "ipython3",
   "version": "3.9.21"
  }
 },
 "nbformat": 4,
 "nbformat_minor": 5
}
